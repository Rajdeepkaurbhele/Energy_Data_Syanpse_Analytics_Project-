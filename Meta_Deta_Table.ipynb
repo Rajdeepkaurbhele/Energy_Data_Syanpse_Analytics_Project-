{
  "nbformat": 4,
  "nbformat_minor": 2,
  "metadata": {
    "language_info": {
      "name": "python"
    },
    "kernelspec": {
      "name": "synapse_pyspark",
      "display_name": "python"
    },
    "description": null,
    "save_output": true,
    "synapse_widget": {
      "version": "0.1",
      "state": {}
    }
  },
  "cells": [
    {
      "cell_type": "code",
      "execution_count": null,
      "outputs": [
        {
          "output_type": "display_data",
          "data": {
            "application/vnd.livy.statement-meta+json": {
              "spark_pool": null,
              "statement_id": -1,
              "statement_ids": [],
              "state": "session_error",
              "livy_statement_state": null,
              "spark_jobs": null,
              "session_id": null,
              "normalized_state": "session_error",
              "queued_time": "2024-12-27T22:31:02.8834305Z",
              "session_start_time": "2024-12-27T22:31:02.9208818Z",
              "execution_start_time": null,
              "execution_finish_time": null,
              "parent_msg_id": "16bcac5b-5878-47e7-93a7-da3b03db83d4"
            },
            "text/plain": "StatementMeta(, , -1, SessionError, , SessionError)"
          },
          "metadata": {}
        },
        {
          "output_type": "error",
          "ename": "AVAILABLE_WORKSPACE_CAPACITY_EXCEEDED",
          "evalue": "Livy session has failed. Session state: Error. Error code: AVAILABLE_WORKSPACE_CAPACITY_EXCEEDED. Your job requested 12 vcores. However, the workspace only has 0 vcores available out of quota of 12 vcores for node size family [MemoryOptimized]. Try ending the running job(s), reducing the numbers of vcores requested or increasing your vcore quota. https://learn.microsoft.com/en-us/azure/synapse-analytics/spark/apache-spark-concepts#workspace-level Source: User.",
          "traceback": [
            "AVAILABLE_WORKSPACE_CAPACITY_EXCEEDED: Livy session has failed. Session state: Error. Error code: AVAILABLE_WORKSPACE_CAPACITY_EXCEEDED. Your job requested 12 vcores. However, the workspace only has 0 vcores available out of quota of 12 vcores for node size family [MemoryOptimized]. Try ending the running job(s), reducing the numbers of vcores requested or increasing your vcore quota. https://learn.microsoft.com/en-us/azure/synapse-analytics/spark/apache-spark-concepts#workspace-level Source: User."
          ]
        }
      ],
      "metadata": {
        "microsoft": {
          "language": "sparksql"
        },
        "collapsed": false
      },
      "source": [
        "%%sql\r\n",
        "CREATE TABLE delta.`abfss://silverlayerdata@energyscotish.dfs.core.windows.net/metadata_table` (\r\n",
        "    TableName STRING,\r\n",
        "    LastProcessedTimestamp TIMESTAMP\r\n",
        ") USING delta;\r\n",
        ""
      ]
    },
    {
      "cell_type": "code",
      "execution_count": 42,
      "outputs": [
        {
          "output_type": "display_data",
          "data": {
            "application/vnd.livy.statement-meta+json": {
              "spark_pool": "TestCluster",
              "statement_id": 42,
              "statement_ids": [
                42
              ],
              "state": "finished",
              "livy_statement_state": "available",
              "spark_jobs": null,
              "session_id": "0",
              "normalized_state": "finished",
              "queued_time": "2024-12-26T15:26:38.8885867Z",
              "session_start_time": null,
              "execution_start_time": "2024-12-26T15:26:39.0080855Z",
              "execution_finish_time": "2024-12-26T15:26:41.7522569Z",
              "parent_msg_id": "253f5739-0abd-4442-9d6a-94012c28e3bc"
            },
            "text/plain": "StatementMeta(TestCluster, 0, 42, Finished, Available, Finished)"
          },
          "metadata": {}
        },
        {
          "output_type": "execute_result",
          "data": {
            "application/vnd.synapse.sparksql-result+json": {
              "schema": {
                "type": "struct",
                "fields": []
              },
              "data": []
            },
            "text/plain": "<Spark SQL result set with 0 rows and 0 fields>"
          },
          "execution_count": 42,
          "metadata": {}
        }
      ],
      "metadata": {
        "microsoft": {},
        "jupyter": {
          "source_hidden": false,
          "outputs_hidden": false
        },
        "nteract": {
          "transient": {
            "deleting": false
          }
        },
        "collapsed": false
      },
      "source": [
        "#%%sql\r\n",
        "#INSERT INTO delta.`abfss://silverlayerdata@energyscotish.dfs.core.windows.net/metadata_table`\r\n",
        "#VALUES\r\n",
        "   #('billing_silver', '1970-01-01 00:00:00'),\r\n",
        "    #('customers_silver', '1970-01-01 00:00:00'),\r\n",
        "    #('regions_silver', '1970-01-01 00:00:00'),\r\n",
        "    #('iot_silver', '1970-01-01 00:00:00');\r\n",
        ""
      ]
    },
    {
      "cell_type": "code",
      "execution_count": null,
      "outputs": [],
      "metadata": {
        "microsoft": {
          "language": "sparksql"
        },
        "jupyter": {
          "source_hidden": false,
          "outputs_hidden": false
        },
        "nteract": {
          "transient": {
            "deleting": false
          }
        }
      },
      "source": [
        "%%sql\r\n",
        "MERGE INTO delta.`abfss://silverlayerdata@energyscotish.dfs.core.windows.net/metadata_table` AS target\r\n",
        "USING (\r\n",
        "    SELECT 'billing_silver' AS TableName, MAX(b.last_updated) AS LastProcessedTimestamp\r\n",
        "    FROM delta.`abfss://silverlayerdata@energyscotish.dfs.core.windows.net/billing_data` AS b\r\n",
        "    UNION ALL\r\n",
        "    SELECT 'customers_silver', MAX(c.last_updated)\r\n",
        "    FROM delta.`abfss://silverlayerdata@energyscotish.dfs.core.windows.net/customers_data` AS c\r\n",
        "    UNION ALL\r\n",
        "    SELECT 'regions_silver', MAX(r.last_updated)\r\n",
        "    FROM delta.`abfss://silverlayerdata@energyscotish.dfs.core.windows.net/regions_data` AS r\r\n",
        "    UNION ALL\r\n",
        "    SELECT 'iot_silver', MAX(i.last_updated)\r\n",
        "    FROM delta.`abfss://silverlayerdata@energyscotish.dfs.core.windows.net/iot_data` AS i\r\n",
        ") AS source\r\n",
        "ON target.TableName = source.TableName\r\n",
        "WHEN MATCHED THEN\r\n",
        "    UPDATE SET\r\n",
        "        target.LastProcessedTimestamp = source.LastProcessedTimestamp\r\n",
        "WHEN NOT MATCHED THEN\r\n",
        "    INSERT (TableName, LastProcessedTimestamp)\r\n",
        "    VALUES (source.TableName, source.LastProcessedTimestamp);\r\n",
        ""
      ]
    }
  ]
}