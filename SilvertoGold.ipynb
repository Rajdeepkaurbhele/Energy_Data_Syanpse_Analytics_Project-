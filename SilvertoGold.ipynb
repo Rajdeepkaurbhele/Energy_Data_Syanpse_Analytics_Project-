{
  "nbformat": 4,
  "nbformat_minor": 2,
  "metadata": {
    "language_info": {
      "name": "sql"
    },
    "kernelspec": {
      "name": "synapse_sparksql",
      "display_name": "sql"
    },
    "description": null,
    "save_output": true,
    "synapse_widget": {
      "version": "0.1",
      "state": {}
    }
  },
  "cells": [
    {
      "cell_type": "code",
      "execution_count": 2,
      "outputs": [
        {
          "output_type": "display_data",
          "data": {
            "application/vnd.livy.statement-meta+json": {
              "spark_pool": "TestCluster",
              "statement_id": 3,
              "statement_ids": [
                3
              ],
              "state": "finished",
              "livy_statement_state": "available",
              "spark_jobs": null,
              "session_id": "14",
              "normalized_state": "finished",
              "queued_time": "2024-12-29T20:47:19.1725319Z",
              "session_start_time": null,
              "execution_start_time": "2024-12-29T20:47:29.0830629Z",
              "execution_finish_time": "2024-12-29T20:47:44.804689Z",
              "parent_msg_id": "4ac44e56-c65e-4b86-a937-6d98cca2270d"
            },
            "text/plain": "StatementMeta(TestCluster, 14, 3, Finished, Available, Finished)"
          },
          "metadata": {}
        }
      ],
      "metadata": {
        "microsoft": {
          "language": "python"
        },
        "jupyter": {
          "source_hidden": false,
          "outputs_hidden": false
        },
        "nteract": {
          "transient": {
            "deleting": false
          }
        }
      },
      "source": [
        "%%pyspark\r\n",
        "billing_silver = spark.read.format(\"delta\").load(\"abfss://silverlayerdata@energyscotish.dfs.core.windows.net/billing_silver/\")\r\n",
        "silver_customer_data = spark.read.format(\"delta\").load(\"abfss://silverlayerdata@energyscotish.dfs.core.windows.net/customer_silver/\")\r\n",
        "silver_region_data = spark.read.format(\"delta\").load(\"abfss://silverlayerdata@energyscotish.dfs.core.windows.net/regions_data/\")\r\n",
        "silver_iot_data = spark.read.format(\"delta\").load(\"abfss://silverlayerdata@energyscotish.dfs.core.windows.net/silver/iot_data/\")\r\n",
        "silver_installation_data = spark.read.format(\"delta\").load(\"abfss://silverlayerdata@energyscotish.dfs.core.windows.net/silver_installation_data/\")"
      ]
    },
    {
      "cell_type": "code",
      "execution_count": 18,
      "outputs": [
        {
          "output_type": "display_data",
          "data": {
            "application/vnd.livy.statement-meta+json": {
              "spark_pool": "TestCluster",
              "statement_id": 19,
              "statement_ids": [
                19
              ],
              "state": "finished",
              "livy_statement_state": "available",
              "spark_jobs": null,
              "session_id": "14",
              "normalized_state": "finished",
              "queued_time": "2024-12-29T20:51:40.9507621Z",
              "session_start_time": null,
              "execution_start_time": "2024-12-29T20:51:41.0964799Z",
              "execution_finish_time": "2024-12-29T20:51:41.2524025Z",
              "parent_msg_id": "679afbb7-0ca5-4bbc-be36-723909bf3951"
            },
            "text/plain": "StatementMeta(TestCluster, 14, 19, Finished, Available, Finished)"
          },
          "metadata": {}
        }
      ],
      "metadata": {
        "microsoft": {
          "language": "python"
        },
        "jupyter": {
          "source_hidden": false,
          "outputs_hidden": false
        },
        "nteract": {
          "transient": {
            "deleting": false
          }
        }
      },
      "source": [
        "%%pyspark\r\n",
        "\r\n",
        "# Create temporary views\r\n",
        "billing_silver.createOrReplaceTempView(\"billing_silver_view\")\r\n",
        "silver_customer_data.createOrReplaceTempView(\"customer_silver_view\")\r\n",
        "silver_region_data.createOrReplaceTempView(\"region_silver_view\")\r\n",
        "silver_iot_data.createOrReplaceTempView(\"iot_silver_view\")\r\n",
        "silver_installation_data.createOrReplaceTempView(\"installation_silver_view\")"
      ]
    },
    {
      "cell_type": "markdown",
      "metadata": {
        "nteract": {
          "transient": {
            "deleting": false
          }
        }
      },
      "source": [
        "#creating Dim_Tables "
      ]
    },
    {
      "cell_type": "code",
      "execution_count": 28,
      "outputs": [
        {
          "output_type": "display_data",
          "data": {
            "application/vnd.livy.statement-meta+json": {
              "spark_pool": "TestCluster",
              "statement_id": 29,
              "statement_ids": [
                29
              ],
              "state": "finished",
              "livy_statement_state": "available",
              "spark_jobs": null,
              "session_id": "14",
              "normalized_state": "finished",
              "queued_time": "2024-12-29T20:57:18.006471Z",
              "session_start_time": null,
              "execution_start_time": "2024-12-29T20:57:18.1363173Z",
              "execution_finish_time": "2024-12-29T20:57:18.3047254Z",
              "parent_msg_id": "93cbd271-6f9d-4026-9fbe-d107755fffd3"
            },
            "text/plain": "StatementMeta(TestCluster, 14, 29, Finished, Available, Finished)"
          },
          "metadata": {}
        }
      ],
      "metadata": {
        "microsoft": {
          "language": "python"
        },
        "jupyter": {
          "source_hidden": false,
          "outputs_hidden": false
        },
        "nteract": {
          "transient": {
            "deleting": false
          }
        },
        "collapsed": false
      },
      "source": [
        "\r\n",
        "%%pyspark\r\n",
        "gold_customer_dim = silver_customer_data.selectExpr(\r\n",
        "    \"CustomerID\",\r\n",
        "    \"CustomerName AS CustomerName\",  # Use the correct column name\r\n",
        "    \"ContactEmail AS ContactEmail\",\r\n",
        "    \"ContactPhone AS ContactPhone\",\r\n",
        "    \"TRIM(REPLACE(REPLACE(REPLACE(REPLACE(Address, 'St', 'Street'), 'Ln', 'Lane'), 'Ave', 'Avenue'), 'Blvd', 'Boulevard')) AS Address\",\r\n",
        "    \"DateOfBirth\",\r\n",
        "    \"RegionID\",\r\n",
        "    \"CURRENT_TIMESTAMP() AS LastUpdated\"\r\n",
        ")\r\n",
        ""
      ]
    },
    {
      "cell_type": "code",
      "execution_count": 29,
      "outputs": [
        {
          "output_type": "display_data",
          "data": {
            "application/vnd.livy.statement-meta+json": {
              "spark_pool": "TestCluster",
              "statement_id": 30,
              "statement_ids": [
                30
              ],
              "state": "finished",
              "livy_statement_state": "available",
              "spark_jobs": null,
              "session_id": "14",
              "normalized_state": "finished",
              "queued_time": "2024-12-29T20:58:50.4261625Z",
              "session_start_time": null,
              "execution_start_time": "2024-12-29T20:58:50.5631913Z",
              "execution_finish_time": "2024-12-29T20:58:50.7196545Z",
              "parent_msg_id": "1fc7071d-f78b-4a50-9595-2b43978de338"
            },
            "text/plain": "StatementMeta(TestCluster, 14, 30, Finished, Available, Finished)"
          },
          "metadata": {}
        }
      ],
      "metadata": {
        "microsoft": {
          "language": "python"
        },
        "jupyter": {
          "source_hidden": false,
          "outputs_hidden": false
        },
        "nteract": {
          "transient": {
            "deleting": false
          }
        },
        "collapsed": false
      },
      "source": [
        "%%pyspark\r\n",
        "gold_region_dim = silver_region_data.selectExpr(\r\n",
        "    \"RegionID\",\r\n",
        "    \"RegionName\",\r\n",
        "    \"State\",\r\n",
        "    \"ZipCode\",\r\n",
        "    \"CURRENT_TIMESTAMP() AS LastUpdated\"\r\n",
        ").distinct()\r\n",
        ""
      ]
    },
    {
      "cell_type": "code",
      "execution_count": 30,
      "outputs": [
        {
          "output_type": "display_data",
          "data": {
            "application/vnd.livy.statement-meta+json": {
              "spark_pool": "TestCluster",
              "statement_id": 31,
              "statement_ids": [
                31
              ],
              "state": "finished",
              "livy_statement_state": "available",
              "spark_jobs": null,
              "session_id": "14",
              "normalized_state": "finished",
              "queued_time": "2024-12-29T20:59:42.5809994Z",
              "session_start_time": null,
              "execution_start_time": "2024-12-29T20:59:42.7045381Z",
              "execution_finish_time": "2024-12-29T20:59:42.860545Z",
              "parent_msg_id": "2f5130ad-f06c-40f4-addc-e99f5e3eb36a"
            },
            "text/plain": "StatementMeta(TestCluster, 14, 31, Finished, Available, Finished)"
          },
          "metadata": {}
        }
      ],
      "metadata": {
        "microsoft": {
          "language": "python"
        },
        "jupyter": {
          "source_hidden": false,
          "outputs_hidden": false
        },
        "nteract": {
          "transient": {
            "deleting": false
          }
        },
        "collapsed": false
      },
      "source": [
        "%%pyspark\r\n",
        "gold_meter_dim = spark.sql(\"\"\"\r\n",
        "    SELECT DISTINCT\r\n",
        "        MeterID,\r\n",
        "        InstallationID,\r\n",
        "        CustomerID,\r\n",
        "        DataIngestionDate,\r\n",
        "        CURRENT_TIMESTAMP() AS LastUpdated\r\n",
        "    FROM installation_silver_view\r\n",
        "\"\"\")\r\n",
        ""
      ]
    },
    {
      "cell_type": "code",
      "execution_count": 31,
      "outputs": [
        {
          "output_type": "display_data",
          "data": {
            "application/vnd.livy.statement-meta+json": {
              "spark_pool": "TestCluster",
              "statement_id": 32,
              "statement_ids": [
                32
              ],
              "state": "finished",
              "livy_statement_state": "available",
              "spark_jobs": null,
              "session_id": "14",
              "normalized_state": "finished",
              "queued_time": "2024-12-29T21:00:31.1605586Z",
              "session_start_time": null,
              "execution_start_time": "2024-12-29T21:00:31.2885241Z",
              "execution_finish_time": "2024-12-29T21:00:31.8278168Z",
              "parent_msg_id": "c076b5bb-6512-4d80-97ad-82a7f912f7d7"
            },
            "text/plain": "StatementMeta(TestCluster, 14, 32, Finished, Available, Finished)"
          },
          "metadata": {}
        }
      ],
      "metadata": {
        "microsoft": {
          "language": "python"
        },
        "jupyter": {
          "source_hidden": false,
          "outputs_hidden": false
        },
        "nteract": {
          "transient": {
            "deleting": false
          }
        },
        "collapsed": false
      },
      "source": [
        "%%pyspark\r\n",
        "gold_date_dim = spark.sql(\"\"\"\r\n",
        "    SELECT DISTINCT\r\n",
        "        Date AS DateKey,\r\n",
        "        Date AS FullDate,\r\n",
        "        YEAR(Date) AS Year,\r\n",
        "        MONTH(Date) AS Month,\r\n",
        "        DAY(Date) AS Day\r\n",
        "    FROM silver_iot_data\r\n",
        "\"\"\")\r\n",
        "\r\n",
        ""
      ]
    },
    {
      "cell_type": "code",
      "execution_count": 32,
      "outputs": [
        {
          "output_type": "display_data",
          "data": {
            "application/vnd.livy.statement-meta+json": {
              "spark_pool": "TestCluster",
              "statement_id": 33,
              "statement_ids": [
                33
              ],
              "state": "finished",
              "livy_statement_state": "available",
              "spark_jobs": null,
              "session_id": "14",
              "normalized_state": "finished",
              "queued_time": "2024-12-29T21:02:04.2690543Z",
              "session_start_time": null,
              "execution_start_time": "2024-12-29T21:02:04.3947535Z",
              "execution_finish_time": "2024-12-29T21:02:04.552637Z",
              "parent_msg_id": "ac6cad99-81b6-42f2-8a84-5d474769ab69"
            },
            "text/plain": "StatementMeta(TestCluster, 14, 33, Finished, Available, Finished)"
          },
          "metadata": {}
        }
      ],
      "metadata": {
        "microsoft": {
          "language": "python"
        },
        "jupyter": {
          "source_hidden": false,
          "outputs_hidden": false
        },
        "nteract": {
          "transient": {
            "deleting": false
          }
        },
        "collapsed": false
      },
      "source": [
        "\r\n",
        "%%pyspark\r\n",
        "gold_billing_fact = spark.sql(\"\"\"\r\n",
        "    SELECT\r\n",
        "        b.BillID,\r\n",
        "        b.CustomerID,\r\n",
        "        b.BillingMonth,\r\n",
        "        b.TotalConsumption,\r\n",
        "        b.TotalAmount,\r\n",
        "        b.PaymentStatus,\r\n",
        "        m.MeterID,\r\n",
        "        c.RegionID,\r\n",
        "        CURRENT_TIMESTAMP() AS LastUpdated\r\n",
        "    FROM Billing_silver_view b\r\n",
        "    JOIN customer_silver_view c ON b.CustomerID = c.CustomerID\r\n",
        "    JOIN installation_silver_view m ON c.CustomerID = m.CustomerID\r\n",
        "\"\"\")\r\n",
        "\r\n",
        " \r\n",
        ""
      ]
    },
    {
      "cell_type": "code",
      "execution_count": 33,
      "outputs": [
        {
          "output_type": "display_data",
          "data": {
            "application/vnd.livy.statement-meta+json": {
              "spark_pool": "TestCluster",
              "statement_id": 34,
              "statement_ids": [
                34
              ],
              "state": "finished",
              "livy_statement_state": "available",
              "spark_jobs": null,
              "session_id": "14",
              "normalized_state": "finished",
              "queued_time": "2024-12-29T21:02:41.2560075Z",
              "session_start_time": null,
              "execution_start_time": "2024-12-29T21:02:41.3837918Z",
              "execution_finish_time": "2024-12-29T21:02:41.8962614Z",
              "parent_msg_id": "cff878d5-05ea-4622-8d03-9f7190bcd450"
            },
            "text/plain": "StatementMeta(TestCluster, 14, 34, Finished, Available, Finished)"
          },
          "metadata": {}
        }
      ],
      "metadata": {
        "microsoft": {
          "language": "python"
        },
        "jupyter": {
          "source_hidden": false,
          "outputs_hidden": false
        },
        "nteract": {
          "transient": {
            "deleting": false
          }
        },
        "collapsed": false
      },
      "source": [
        "%%pyspark\r\n",
        "gold_iot_fact = spark.sql(\"\"\"\r\n",
        "    SELECT\r\n",
        "        i.MeterID,\r\n",
        "        i.Timestamp,\r\n",
        "        i.Date,\r\n",
        "        i.ConsumptionKWH,\r\n",
        "        i.DeviceStatus,\r\n",
        "        i.AnomalyFlag,\r\n",
        "        CURRENT_TIMESTAMP() AS LastUpdated\r\n",
        "    FROM silver_iot_data i\r\n",
        "\"\"\")\r\n",
        "\r\n",
        ""
      ]
    },
    {
      "cell_type": "code",
      "execution_count": 34,
      "outputs": [
        {
          "output_type": "display_data",
          "data": {
            "application/vnd.livy.statement-meta+json": {
              "spark_pool": "TestCluster",
              "statement_id": 35,
              "statement_ids": [
                35
              ],
              "state": "finished",
              "livy_statement_state": "available",
              "spark_jobs": null,
              "session_id": "14",
              "normalized_state": "finished",
              "queued_time": "2024-12-29T21:02:49.4112037Z",
              "session_start_time": null,
              "execution_start_time": "2024-12-29T21:02:49.5377881Z",
              "execution_finish_time": "2024-12-29T21:04:04.2615477Z",
              "parent_msg_id": "1ac4a2d1-8e64-41b0-afdd-8f9cd8fddf0b"
            },
            "text/plain": "StatementMeta(TestCluster, 14, 35, Finished, Available, Finished)"
          },
          "metadata": {}
        }
      ],
      "metadata": {
        "microsoft": {
          "language": "python"
        },
        "jupyter": {
          "source_hidden": false,
          "outputs_hidden": false
        },
        "nteract": {
          "transient": {
            "deleting": false
          }
        }
      },
      "source": [
        "%%pyspark\r\n",
        "gold_region_dim.write.format(\"delta\").mode(\"overwrite\").save(\"abfss://goldayer@energyscotish.dfs.core.windows.net/region_dim\")\r\n",
        "gold_meter_dim.write.format(\"delta\").mode(\"overwrite\").save(\"abfss://goldayer@energyscotish.dfs.core.windows.net/meter_dim\")\r\n",
        "gold_date_dim.write.format(\"delta\").mode(\"overwrite\").save(\"abfss://goldayer@energyscotish.dfs.core.windows.net/date_dim\") what about fact "
      ]
    },
    {
      "cell_type": "code",
      "execution_count": 35,
      "outputs": [
        {
          "output_type": "display_data",
          "data": {
            "application/vnd.livy.statement-meta+json": {
              "spark_pool": "TestCluster",
              "statement_id": 36,
              "statement_ids": [
                36
              ],
              "state": "finished",
              "livy_statement_state": "available",
              "spark_jobs": null,
              "session_id": "14",
              "normalized_state": "finished",
              "queued_time": "2024-12-29T21:04:47.7935479Z",
              "session_start_time": null,
              "execution_start_time": "2024-12-29T21:04:47.9308863Z",
              "execution_finish_time": "2024-12-29T21:05:25.2532184Z",
              "parent_msg_id": "d7ba8fb1-f1d8-4d8a-a417-5df60779800e"
            },
            "text/plain": "StatementMeta(TestCluster, 14, 36, Finished, Available, Finished)"
          },
          "metadata": {}
        }
      ],
      "metadata": {
        "microsoft": {
          "language": "python"
        },
        "jupyter": {
          "source_hidden": false,
          "outputs_hidden": false
        },
        "nteract": {
          "transient": {
            "deleting": false
          }
        }
      },
      "source": [
        "%%pyspark\r\n",
        "\r\n",
        "gold_billing_fact.write.format(\"delta\").mode(\"overwrite\").save(\"abfss://goldayer@energyscotish.dfs.core.windows.net/billing_fact\")\r\n",
        "\r\n",
        "gold_iot_fact.write.format(\"delta\").mode(\"overwrite\").save(\"abfss://goldayer@energyscotish.dfs.core.windows.net/iot_fact\")\r\n",
        ""
      ]
    }
  ]
}