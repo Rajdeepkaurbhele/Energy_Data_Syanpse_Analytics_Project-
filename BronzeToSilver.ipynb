{
  "nbformat": 4,
  "nbformat_minor": 2,
  "metadata": {
    "language_info": {
      "name": "sql"
    },
    "kernelspec": {
      "name": "synapse_sparksql",
      "display_name": "sql"
    },
    "description": null,
    "save_output": true,
    "synapse_widget": {
      "version": "0.1",
      "state": {}
    }
  },
  "cells": [
    {
      "cell_type": "code",
      "execution_count": 3,
      "outputs": [
        {
          "output_type": "display_data",
          "data": {
            "application/vnd.livy.statement-meta+json": {
              "spark_pool": "TestCluster",
              "statement_id": 2,
              "statement_ids": [
                2
              ],
              "state": "finished",
              "livy_statement_state": "available",
              "spark_jobs": null,
              "session_id": "9",
              "normalized_state": "finished",
              "queued_time": "2024-12-27T22:55:30.6611188Z",
              "session_start_time": "2024-12-27T22:55:30.7005687Z",
              "execution_start_time": "2024-12-27T22:57:04.0809283Z",
              "execution_finish_time": "2024-12-27T22:57:04.2355261Z",
              "parent_msg_id": "c1cc7410-daf1-460d-9889-2fc42123d92e"
            },
            "text/plain": "StatementMeta(TestCluster, 9, 2, Finished, Available, Finished)"
          },
          "metadata": {}
        }
      ],
      "metadata": {
        "microsoft": {
          "language": "python"
        },
        "jupyter": {
          "source_hidden": false,
          "outputs_hidden": false
        },
        "nteract": {
          "transient": {
            "deleting": false
          }
        }
      },
      "source": [
        "%%pyspark\r\n",
        "from pyspark.sql.functions import col, lag, when, lit, sum as _sum, avg, max as _max\r\n",
        "from pyspark.sql.window import Window"
      ]
    },
    {
      "cell_type": "code",
      "execution_count": 4,
      "outputs": [
        {
          "output_type": "display_data",
          "data": {
            "application/vnd.livy.statement-meta+json": {
              "spark_pool": "TestCluster",
              "statement_id": 3,
              "statement_ids": [
                3
              ],
              "state": "finished",
              "livy_statement_state": "available",
              "spark_jobs": null,
              "session_id": "9",
              "normalized_state": "finished",
              "queued_time": "2024-12-27T22:57:06.1167535Z",
              "session_start_time": null,
              "execution_start_time": "2024-12-27T22:57:06.2400448Z",
              "execution_finish_time": "2024-12-27T22:57:23.3451927Z",
              "parent_msg_id": "92c02316-6335-47dc-a827-962dfe613c4b"
            },
            "text/plain": "StatementMeta(TestCluster, 9, 3, Finished, Available, Finished)"
          },
          "metadata": {}
        }
      ],
      "metadata": {
        "microsoft": {
          "language": "python"
        }
      },
      "source": [
        "%%pyspark\r\n",
        "\r\n",
        "billing_data = spark.read.parquet('abfss://bronzelayerdata@energyscotish.dfs.core.windows.net/SQL_Data/billing', header=True, inferSchema=True)\r\n",
        "outages_data = spark.read.parquet('abfss://bronzelayerdata@energyscotish.dfs.core.windows.net/SQL_Data/outages_data', header=True, inferSchema=True)\r\n",
        "regions_data = spark.read.parquet('abfss://bronzelayerdata@energyscotish.dfs.core.windows.net/SQL_Data/regions', header=True, inferSchema=True)\r\n",
        "customers_data = spark.read.parquet('abfss://bronzelayerdata@energyscotish.dfs.core.windows.net/SQL_Data/customers', header=True, inferSchema=True)\r\n",
        "iot_bronze_data = spark.read.json('abfss://lendingforiotdata@energyscotish.dfs.core.windows.net/IOTData/customer_data.json')\r\n",
        "Meter_Install_data = spark.read.parquet('abfss://bronzelayerdata@energyscotish.dfs.core.windows.net/SQL_Data/Meter_Install',header=True, inferSchema=True)\r\n",
        ""
      ]
    },
    {
      "cell_type": "markdown",
      "metadata": {
        "nteract": {
          "transient": {
            "deleting": false
          }
        }
      },
      "source": [
        "**Transform Billing Data **"
      ]
    },
    {
      "cell_type": "code",
      "execution_count": 5,
      "outputs": [
        {
          "output_type": "display_data",
          "data": {
            "application/vnd.livy.statement-meta+json": {
              "spark_pool": "TestCluster",
              "statement_id": 4,
              "statement_ids": [
                4
              ],
              "state": "finished",
              "livy_statement_state": "available",
              "spark_jobs": null,
              "session_id": "9",
              "normalized_state": "finished",
              "queued_time": "2024-12-27T22:57:10.9979128Z",
              "session_start_time": null,
              "execution_start_time": "2024-12-27T22:57:23.487836Z",
              "execution_finish_time": "2024-12-27T22:57:24.020679Z",
              "parent_msg_id": "538345f5-485b-43ea-8d82-06ce5c81a6b4"
            },
            "text/plain": "StatementMeta(TestCluster, 9, 4, Finished, Available, Finished)"
          },
          "metadata": {}
        }
      ],
      "metadata": {
        "microsoft": {
          "language": "python"
        },
        "jupyter": {
          "source_hidden": false,
          "outputs_hidden": false
        },
        "nteract": {
          "transient": {
            "deleting": false
          }
        }
      },
      "source": [
        "%%pyspark\r\n",
        "billing_data.createOrReplaceTempView(\"billing_data\")\r\n",
        "customers_data.createOrReplaceTempView(\"customers_data\")\r\n",
        "regions_data.createOrReplaceTempView(\"regions_data\")\r\n",
        "iot_bronze_data.createOrReplaceTempView(\"IOT_DATA\")\r\n",
        "Meter_Install_data.createOrReplaceTempView(\"Meterid_customerid\")"
      ]
    },
    {
      "cell_type": "code",
      "execution_count": 39,
      "outputs": [
        {
          "output_type": "display_data",
          "data": {
            "application/vnd.livy.statement-meta+json": {
              "spark_pool": "TestCluster",
              "statement_id": 39,
              "statement_ids": [
                39
              ],
              "state": "finished",
              "livy_statement_state": "available",
              "spark_jobs": null,
              "session_id": "0",
              "normalized_state": "finished",
              "queued_time": "2024-12-26T15:23:31.8488481Z",
              "session_start_time": null,
              "execution_start_time": "2024-12-26T15:23:31.9653201Z",
              "execution_finish_time": "2024-12-26T15:23:54.266033Z",
              "parent_msg_id": "08519148-ad7e-4590-8cad-55b4d87fdfa3"
            },
            "text/plain": "StatementMeta(TestCluster, 0, 39, Finished, Available, Finished)"
          },
          "metadata": {}
        },
        {
          "output_type": "execute_result",
          "data": {
            "application/vnd.synapse.sparksql-result+json": {
              "schema": {
                "type": "struct",
                "fields": [
                  {
                    "name": "num_affected_rows",
                    "type": "long",
                    "nullable": true,
                    "metadata": {}
                  },
                  {
                    "name": "num_updated_rows",
                    "type": "long",
                    "nullable": true,
                    "metadata": {}
                  },
                  {
                    "name": "num_deleted_rows",
                    "type": "long",
                    "nullable": true,
                    "metadata": {}
                  },
                  {
                    "name": "num_inserted_rows",
                    "type": "long",
                    "nullable": true,
                    "metadata": {}
                  }
                ]
              },
              "data": [
                [
                  "36005",
                  "0",
                  "0",
                  "36005"
                ]
              ]
            },
            "text/plain": "<Spark SQL result set with 1 rows and 4 fields>"
          },
          "execution_count": 39,
          "metadata": {}
        }
      ],
      "metadata": {
        "microsoft": {
          "language": "sparksql"
        },
        "jupyter": {
          "source_hidden": false,
          "outputs_hidden": false
        },
        "nteract": {
          "transient": {
            "deleting": false
          }
        },
        "collapsed": false
      },
      "source": [
        "%%sql\r\n",
        "MERGE INTO delta.`abfss://silverlayerdata@energyscotish.dfs.core.windows.net/billing_silver` AS target\r\n",
        "USING (\r\n",
        "    WITH FilteredBillingData AS (\r\n",
        "        SELECT *\r\n",
        "        FROM billing_data\r\n",
        "        WHERE \r\n",
        "            last_updated > (\r\n",
        "                SELECT MAX(LastProcessedTimestamp)\r\n",
        "                FROM MetadataTable\r\n",
        "                WHERE TableName = 'billing_silver'\r\n",
        "            )\r\n",
        "            AND TotalConsumption > 0 \r\n",
        "            AND TotalAmount > 0\r\n",
        "    )\r\n",
        "    SELECT\r\n",
        "        b.BillID,\r\n",
        "        b.CustomerID,\r\n",
        "        c.FullName as CustomerName,\r\n",
        "        b.BillingMonth,\r\n",
        "        b.TotalConsumption,\r\n",
        "        b.TotalAmount,\r\n",
        "        b.PaymentStatus,\r\n",
        "        (b.TotalAmount / b.TotalConsumption) AS AverageUnitCost,\r\n",
        "        CASE \r\n",
        "            WHEN b.PaymentStatus = 'Unpaid' THEN b.TotalAmount\r\n",
        "            ELSE 0.0\r\n",
        "        END AS OutstandingAmount,\r\n",
        "        r.RegionName,\r\n",
        "       \r\n",
        "        b.last_updated\r\n",
        "    FROM \r\n",
        "        FilteredBillingData b\r\n",
        "    LEFT JOIN \r\n",
        "        customers_data c \r\n",
        "    ON \r\n",
        "        b.CustomerID = c.CustomerID\r\n",
        "    LEFT JOIN \r\n",
        "        regions_data r \r\n",
        "    ON \r\n",
        "        c.RegionID = r.RegionID\r\n",
        ") AS source\r\n",
        "ON target.BillID = source.BillID\r\n",
        "WHEN MATCHED AND (\r\n",
        "    target.CustomerID != source.CustomerID OR\r\n",
        "    target.TotalAmount != source.TotalAmount OR\r\n",
        "    target.last_updated < source.last_updated\r\n",
        ") THEN \r\n",
        "    UPDATE SET\r\n",
        "        target.CustomerID = source.CustomerID,\r\n",
        "        target.CustomerName = source.CustomerName,\r\n",
        "        target.BillingMonth = source.BillingMonth,\r\n",
        "        target.TotalConsumption = source.TotalConsumption,\r\n",
        "        target.TotalAmount = source.TotalAmount,\r\n",
        "        target.PaymentStatus = source.PaymentStatus,\r\n",
        "        target.AverageUnitCost = source.AverageUnitCost,\r\n",
        "        target.OutstandingAmount = source.OutstandingAmount,\r\n",
        "        target.RegionName = source.RegionName,\r\n",
        "        \r\n",
        "        target.last_updated = source.last_updated\r\n",
        "WHEN NOT MATCHED THEN\r\n",
        "    INSERT (\r\n",
        "        BillID,\r\n",
        "        CustomerID,\r\n",
        "        CustomerName,\r\n",
        "        BillingMonth,\r\n",
        "        TotalConsumption,\r\n",
        "        TotalAmount,\r\n",
        "        PaymentStatus,\r\n",
        "        AverageUnitCost,\r\n",
        "        OutstandingAmount,\r\n",
        "        RegionName,\r\n",
        "        \r\n",
        "        last_updated\r\n",
        "    ) VALUES (\r\n",
        "        source.BillID,\r\n",
        "        source.CustomerID,\r\n",
        "        source.CustomerName,\r\n",
        "        source.BillingMonth,\r\n",
        "        source.TotalConsumption,\r\n",
        "        source.TotalAmount,\r\n",
        "        source.PaymentStatus,\r\n",
        "        source.AverageUnitCost,\r\n",
        "        source.OutstandingAmount,\r\n",
        "        source.RegionName,\r\n",
        "       \r\n",
        "        source.last_updated\r\n",
        "    );\r\n",
        ""
      ]
    },
    {
      "cell_type": "markdown",
      "metadata": {
        "nteract": {
          "transient": {
            "deleting": false
          }
        }
      },
      "source": [
        "Customer_Data"
      ]
    },
    {
      "cell_type": "code",
      "execution_count": 53,
      "outputs": [
        {
          "output_type": "display_data",
          "data": {
            "application/vnd.livy.statement-meta+json": {
              "spark_pool": "TestCluster",
              "statement_id": 53,
              "statement_ids": [
                53
              ],
              "state": "finished",
              "livy_statement_state": "available",
              "spark_jobs": null,
              "session_id": "0",
              "normalized_state": "finished",
              "queued_time": "2024-12-26T15:47:16.0114322Z",
              "session_start_time": null,
              "execution_start_time": "2024-12-26T15:47:16.1426816Z",
              "execution_finish_time": "2024-12-26T15:47:28.7117043Z",
              "parent_msg_id": "92f9067d-5b91-46b4-9a24-9d414da70814"
            },
            "text/plain": "StatementMeta(TestCluster, 0, 53, Finished, Available, Finished)"
          },
          "metadata": {}
        },
        {
          "output_type": "execute_result",
          "data": {
            "application/vnd.synapse.sparksql-result+json": {
              "schema": {
                "type": "struct",
                "fields": [
                  {
                    "name": "num_affected_rows",
                    "type": "long",
                    "nullable": true,
                    "metadata": {}
                  },
                  {
                    "name": "num_updated_rows",
                    "type": "long",
                    "nullable": true,
                    "metadata": {}
                  },
                  {
                    "name": "num_deleted_rows",
                    "type": "long",
                    "nullable": true,
                    "metadata": {}
                  },
                  {
                    "name": "num_inserted_rows",
                    "type": "long",
                    "nullable": true,
                    "metadata": {}
                  }
                ]
              },
              "data": [
                [
                  "3005",
                  "0",
                  "0",
                  "3005"
                ]
              ]
            },
            "text/plain": "<Spark SQL result set with 1 rows and 4 fields>"
          },
          "execution_count": 53,
          "metadata": {}
        }
      ],
      "metadata": {
        "microsoft": {},
        "jupyter": {
          "source_hidden": false,
          "outputs_hidden": false
        },
        "nteract": {
          "transient": {
            "deleting": false
          }
        },
        "collapsed": false
      },
      "source": [
        "MERGE INTO delta.`abfss://silverlayerdata@energyscotish.dfs.core.windows.net/customer_silver` AS target\r\n",
        "USING (\r\n",
        "    SELECT\r\n",
        "        c.CustomerID,\r\n",
        "        c.FullName AS CustomerName,\r\n",
        "        c.Email AS ContactEmail,  -- Rename for consistency\r\n",
        "        c.ContactNumber AS ContactPhone,  -- Rename for consistency\r\n",
        "        -- Apply address transformations: standardize abbreviations and trim spaces\r\n",
        "        TRIM(REPLACE(REPLACE(REPLACE(REPLACE(c.Address, 'St', 'Street'), 'Ln', 'Lane'), 'Ave', 'Avenue'), 'Blvd', 'Boulevard')) AS Address,\r\n",
        "        c.DateOfBirth,  -- Include DateOfBirth\r\n",
        "        r.RegionID,\r\n",
        "        c.last_updated\r\n",
        "    FROM\r\n",
        "        customers_data c\r\n",
        "    LEFT JOIN\r\n",
        "        regions_data r\r\n",
        "    ON\r\n",
        "        c.RegionID = r.RegionID\r\n",
        "    WHERE\r\n",
        "        c.last_updated > (\r\n",
        "            SELECT MAX(LastProcessedTimestamp)\r\n",
        "            FROM delta.`abfss://silverlayerdata@energyscotish.dfs.core.windows.net/metadata_table`\r\n",
        "            WHERE TableName = 'customers_silver'\r\n",
        "        )\r\n",
        ") AS source\r\n",
        "ON target.CustomerID = source.CustomerID\r\n",
        "WHEN MATCHED THEN\r\n",
        "    UPDATE SET\r\n",
        "        target.CustomerName = source.CustomerName,\r\n",
        "        target.ContactEmail = source.ContactEmail,\r\n",
        "        target.ContactPhone = source.ContactPhone,\r\n",
        "        target.Address = source.Address,  -- Updated address with transformation\r\n",
        "        target.DateOfBirth = source.DateOfBirth,  -- Include DateOfBirth in the update\r\n",
        "        target.RegionID = source.RegionID,\r\n",
        "        target.last_updated = source.last_updated\r\n",
        "WHEN NOT MATCHED THEN\r\n",
        "    INSERT (\r\n",
        "        CustomerID,\r\n",
        "        CustomerName,\r\n",
        "        ContactEmail,\r\n",
        "        ContactPhone,\r\n",
        "        Address,\r\n",
        "        DateOfBirth,\r\n",
        "        RegionID,\r\n",
        "        last_updated\r\n",
        "    )\r\n",
        "    VALUES (\r\n",
        "        source.CustomerID,\r\n",
        "        source.CustomerName,\r\n",
        "        source.ContactEmail,\r\n",
        "        source.ContactPhone,\r\n",
        "        source.Address,  -- Insert transformed address\r\n",
        "        source.DateOfBirth,  -- Include DateOfBirth in the insert\r\n",
        "        source.RegionID,\r\n",
        "        source.last_updated\r\n",
        "    );\r\n",
        ""
      ]
    },
    {
      "cell_type": "markdown",
      "metadata": {
        "nteract": {
          "transient": {
            "deleting": false
          }
        }
      },
      "source": [
        "Region _Data"
      ]
    },
    {
      "cell_type": "code",
      "execution_count": 52,
      "outputs": [
        {
          "output_type": "display_data",
          "data": {
            "application/vnd.livy.statement-meta+json": {
              "spark_pool": "TestCluster",
              "statement_id": 9,
              "statement_ids": [
                9
              ],
              "state": "finished",
              "livy_statement_state": "cancelled",
              "spark_jobs": null,
              "session_id": "3",
              "normalized_state": "cancelled",
              "queued_time": "2024-12-27T22:29:47.8321241Z",
              "session_start_time": null,
              "execution_start_time": "2024-12-27T22:29:47.978274Z",
              "execution_finish_time": "2024-12-27T22:30:16.5604098Z",
              "parent_msg_id": "1d06b84f-495d-44fc-812d-4d5393fcf423"
            },
            "text/plain": "StatementMeta(TestCluster, 3, 9, Finished, Cancelled, Cancelled)"
          },
          "metadata": {}
        }
      ],
      "metadata": {
        "microsoft": {
          "language": "sparksql"
        },
        "jupyter": {
          "source_hidden": false,
          "outputs_hidden": false
        },
        "nteract": {
          "transient": {
            "deleting": false
          }
        },
        "collapsed": false
      },
      "source": [
        "%%sql\r\n",
        "MERGE INTO delta.`abfss://silverlayerdata@energyscotish.dfs.core.windows.net/regions_data` AS target\r\n",
        "USING (\r\n",
        "    SELECT\r\n",
        "        r.RegionID,\r\n",
        "        r.RegionName,\r\n",
        "        r.State,\r\n",
        "        r.ZipCode,\r\n",
        "        r.last_updated\r\n",
        "    FROM\r\n",
        "        regions_data r\r\n",
        "    WHERE\r\n",
        "        r.last_updated > (\r\n",
        "            SELECT MAX(LastProcessedTimestamp)\r\n",
        "            FROM delta.`abfss://silverlayerdata@energyscotish.dfs.core.windows.net/metadata_table`\r\n",
        "            WHERE TableName = 'regions_silver'\r\n",
        "        )\r\n",
        ") AS source\r\n",
        "ON target.RegionID = source.RegionID\r\n",
        "WHEN MATCHED THEN\r\n",
        "    UPDATE SET\r\n",
        "        target.RegionName = source.RegionName,\r\n",
        "        target.State = source.State,\r\n",
        "        target.ZipCode = source.ZipCode,\r\n",
        "        target.update_date = source.last_updated\r\n",
        "WHEN NOT MATCHED THEN\r\n",
        "    INSERT (\r\n",
        "        RegionID,\r\n",
        "        RegionName,\r\n",
        "        State,\r\n",
        "        ZipCode,\r\n",
        "        update_date \r\n",
        "    )\r\n",
        "    VALUES (\r\n",
        "        source.RegionID,\r\n",
        "        source.RegionName,\r\n",
        "        source.State,\r\n",
        "        source.ZipCode,\r\n",
        "        source.last_updated \r\n",
        "    );\r\n",
        "\r\n",
        ""
      ]
    },
    {
      "cell_type": "markdown",
      "metadata": {
        "nteract": {
          "transient": {
            "deleting": false
          }
        }
      },
      "source": [
        "IOT _Data Tranformation"
      ]
    },
    {
      "cell_type": "code",
      "execution_count": 40,
      "outputs": [
        {
          "output_type": "display_data",
          "data": {
            "application/vnd.livy.statement-meta+json": {
              "spark_pool": "TestCluster",
              "statement_id": 43,
              "statement_ids": [
                43
              ],
              "state": "finished",
              "livy_statement_state": "available",
              "spark_jobs": null,
              "session_id": "2",
              "normalized_state": "finished",
              "queued_time": "2024-12-27T21:30:45.1527529Z",
              "session_start_time": null,
              "execution_start_time": "2024-12-27T21:30:45.2715244Z",
              "execution_finish_time": "2024-12-27T21:30:46.3444793Z",
              "parent_msg_id": "2271f014-51c6-40fa-8e4c-9d4b8258573e"
            },
            "text/plain": "StatementMeta(TestCluster, 2, 43, Finished, Available, Finished)"
          },
          "metadata": {}
        },
        {
          "output_type": "execute_result",
          "data": {
            "application/vnd.synapse.sparksql-result+json": {
              "schema": {
                "type": "struct",
                "fields": []
              },
              "data": []
            },
            "text/plain": "<Spark SQL result set with 0 rows and 0 fields>"
          },
          "execution_count": 40,
          "metadata": {}
        }
      ],
      "metadata": {
        "jupyter": {
          "source_hidden": false,
          "outputs_hidden": false
        },
        "nteract": {
          "transient": {
            "deleting": false
          }
        },
        "collapsed": false
      },
      "source": [
        "-- Create the Silver Delta table with partitioning\r\n",
        "CREATE TABLE IF NOT EXISTS silver_iot_data (\r\n",
        "    MeterID STRING,\r\n",
        "    Timestamp TIMESTAMP,\r\n",
        "    Date DATE, -- Add a separate date column for partitioning\r\n",
        "    ConsumptionKWH DOUBLE,\r\n",
        "    DeviceStatus STRING,\r\n",
        "    AnomalyFlag BOOLEAN\r\n",
        ")\r\n",
        "USING DELTA\r\n",
        "PARTITIONED BY (Date) -- Use the raw `Date` column for partitioning\r\n",
        "LOCATION 'abfss://silverlayerdata@energyscotish.dfs.core.windows.net/silver/iot_data';\r\n",
        ""
      ]
    },
    {
      "cell_type": "code",
      "execution_count": 44,
      "outputs": [
        {
          "output_type": "display_data",
          "data": {
            "application/vnd.livy.statement-meta+json": {
              "spark_pool": "TestCluster",
              "statement_id": 47,
              "statement_ids": [
                47
              ],
              "state": "finished",
              "livy_statement_state": "available",
              "spark_jobs": null,
              "session_id": "2",
              "normalized_state": "finished",
              "queued_time": "2024-12-27T21:32:28.3368838Z",
              "session_start_time": null,
              "execution_start_time": "2024-12-27T21:32:28.4567759Z",
              "execution_finish_time": "2024-12-27T21:32:51.325466Z",
              "parent_msg_id": "51b20054-e538-432f-9f1f-c50fe0edfd16"
            },
            "text/plain": "StatementMeta(TestCluster, 2, 47, Finished, Available, Finished)"
          },
          "metadata": {}
        },
        {
          "output_type": "execute_result",
          "data": {
            "application/vnd.synapse.sparksql-result+json": {
              "schema": {
                "type": "struct",
                "fields": [
                  {
                    "name": "num_affected_rows",
                    "type": "long",
                    "nullable": true,
                    "metadata": {}
                  },
                  {
                    "name": "num_updated_rows",
                    "type": "long",
                    "nullable": true,
                    "metadata": {}
                  },
                  {
                    "name": "num_deleted_rows",
                    "type": "long",
                    "nullable": true,
                    "metadata": {}
                  },
                  {
                    "name": "num_inserted_rows",
                    "type": "long",
                    "nullable": true,
                    "metadata": {}
                  }
                ]
              },
              "data": [
                [
                  "72000",
                  "72000",
                  "0",
                  "0"
                ]
              ]
            },
            "text/plain": "<Spark SQL result set with 1 rows and 4 fields>"
          },
          "execution_count": 44,
          "metadata": {}
        }
      ],
      "metadata": {
        "jupyter": {
          "source_hidden": false,
          "outputs_hidden": false
        },
        "nteract": {
          "transient": {
            "deleting": false
          }
        },
        "collapsed": false
      },
      "source": [
        "-- Merge incremental IoT data into the Silver Delta table\r\n",
        "MERGE INTO silver_iot_data AS target\r\n",
        "USING (\r\n",
        "    SELECT\r\n",
        "        MeterID,\r\n",
        "        CAST(Timestamp AS TIMESTAMP) AS Timestamp,\r\n",
        "        DATE(CAST(Timestamp AS TIMESTAMP)) AS Date, -- Extract date for partitioning\r\n",
        "        COALESCE(ConsumptionKWH, 0) AS ConsumptionKWH,\r\n",
        "        DeviceStatus,\r\n",
        "        AnomalyFlag\r\n",
        "    FROM IOT_DATA\r\n",
        ") AS source\r\n",
        "ON target.MeterID = source.MeterID AND target.Timestamp = source.Timestamp\r\n",
        "WHEN MATCHED THEN\r\n",
        "    UPDATE SET\r\n",
        "        target.ConsumptionKWH = source.ConsumptionKWH,\r\n",
        "        target.DeviceStatus = source.DeviceStatus,\r\n",
        "        target.AnomalyFlag = source.AnomalyFlag\r\n",
        "WHEN NOT MATCHED THEN\r\n",
        "    INSERT (MeterID, Timestamp, Date, ConsumptionKWH, DeviceStatus, AnomalyFlag)\r\n",
        "    VALUES (source.MeterID, source.Timestamp, source.Date, source.ConsumptionKWH, source.DeviceStatus, source.AnomalyFlag);\r\n",
        "\r\n",
        ""
      ]
    },
    {
      "cell_type": "markdown",
      "metadata": {
        "nteract": {
          "transient": {
            "deleting": false
          }
        }
      },
      "source": [
        "Installation _Data"
      ]
    },
    {
      "cell_type": "markdown",
      "metadata": {
        "nteract": {
          "transient": {
            "deleting": false
          }
        }
      },
      "source": []
    },
    {
      "cell_type": "code",
      "execution_count": 12,
      "outputs": [
        {
          "output_type": "display_data",
          "data": {
            "application/vnd.livy.statement-meta+json": {
              "spark_pool": "TestCluster",
              "statement_id": 13,
              "statement_ids": [
                13
              ],
              "state": "finished",
              "livy_statement_state": "available",
              "spark_jobs": null,
              "session_id": "9",
              "normalized_state": "finished",
              "queued_time": "2024-12-27T22:59:15.2768872Z",
              "session_start_time": null,
              "execution_start_time": "2024-12-27T22:59:15.4131354Z",
              "execution_finish_time": "2024-12-27T22:59:16.4621952Z",
              "parent_msg_id": "66eb4efd-756e-4d13-adc9-dc9cfcb9f26c"
            },
            "text/plain": "StatementMeta(TestCluster, 9, 13, Finished, Available, Finished)"
          },
          "metadata": {}
        },
        {
          "output_type": "execute_result",
          "data": {
            "application/vnd.synapse.sparksql-result+json": {
              "schema": {
                "type": "struct",
                "fields": []
              },
              "data": []
            },
            "text/plain": "<Spark SQL result set with 0 rows and 0 fields>"
          },
          "execution_count": 12,
          "metadata": {}
        }
      ],
      "metadata": {
        "jupyter": {
          "source_hidden": false,
          "outputs_hidden": false
        },
        "nteract": {
          "transient": {
            "deleting": false
          }
        },
        "collapsed": false
      },
      "source": [
        "CREATE OR REPLACE TEMP VIEW cleaned_installation_data AS\r\n",
        "SELECT DISTINCT\r\n",
        "    CustomerID,\r\n",
        "    MeterID,\r\n",
        "    InstallationID\r\n",
        "FROM Meterid_customerid\r\n",
        "WHERE CustomerID IS NOT NULL AND MeterID IS NOT NULL AND InstallationID IS NOT NULL;\r\n",
        ""
      ]
    },
    {
      "cell_type": "code",
      "execution_count": 13,
      "outputs": [
        {
          "output_type": "display_data",
          "data": {
            "application/vnd.livy.statement-meta+json": {
              "spark_pool": "TestCluster",
              "statement_id": 14,
              "statement_ids": [
                14
              ],
              "state": "finished",
              "livy_statement_state": "available",
              "spark_jobs": null,
              "session_id": "9",
              "normalized_state": "finished",
              "queued_time": "2024-12-27T22:59:45.5308907Z",
              "session_start_time": null,
              "execution_start_time": "2024-12-27T22:59:45.6431293Z",
              "execution_finish_time": "2024-12-27T23:00:52.2301795Z",
              "parent_msg_id": "5fe50be9-8ba7-4875-b2ce-4c544531d6a2"
            },
            "text/plain": "StatementMeta(TestCluster, 9, 14, Finished, Available, Finished)"
          },
          "metadata": {}
        },
        {
          "output_type": "execute_result",
          "data": {
            "application/vnd.synapse.sparksql-result+json": {
              "schema": {
                "type": "struct",
                "fields": []
              },
              "data": []
            },
            "text/plain": "<Spark SQL result set with 0 rows and 0 fields>"
          },
          "execution_count": 13,
          "metadata": {}
        }
      ],
      "metadata": {
        "jupyter": {
          "source_hidden": false,
          "outputs_hidden": false
        },
        "nteract": {
          "transient": {
            "deleting": false
          }
        },
        "collapsed": false
      },
      "source": [
        "CREATE TABLE silver_installation_data\r\n",
        "USING DELTA\r\n",
        "PARTITIONED BY (CustomerID)\r\n",
        "LOCATION 'abfss://silverlayerdata@energyscotish.dfs.core.windows.net/silver_installation_data'\r\n",
        "AS\r\n",
        "SELECT\r\n",
        "    CustomerID,\r\n",
        "    MeterID,\r\n",
        "    InstallationID,\r\n",
        "    CURRENT_DATE() AS DataIngestionDate\r\n",
        "FROM cleaned_installation_data;\r\n",
        ""
      ]
    },
    {
      "cell_type": "markdown",
      "metadata": {
        "nteract": {
          "transient": {
            "deleting": false
          }
        }
      },
      "source": [
        "\r\n",
        ""
      ]
    }
  ]
}